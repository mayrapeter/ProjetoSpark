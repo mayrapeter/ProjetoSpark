{
 "cells": [
  {
   "cell_type": "code",
   "execution_count": 7,
   "metadata": {},
   "outputs": [],
   "source": [
    "import pyspark\n",
    "import math\n",
    "import pandas as pd"
   ]
  },
  {
   "cell_type": "code",
   "execution_count": 8,
   "metadata": {},
   "outputs": [],
   "source": [
    "def analise(palavras_recebidas, rdd, rdd_idf):\n",
    "\n",
    "    def conta_palavras(item):\n",
    "        url, conteudo = item\n",
    "        palavras = conteudo.strip().split()\n",
    "        return [(palavra.lower(), 1) for palavra in palavras]\n",
    "\n",
    "    def computa_freq_palavra(item):\n",
    "        palavra, contagem = item\n",
    "        palavra_freq = math.log10(1 + contagem)\n",
    "        return (palavra, palavra_freq)\n",
    "\n",
    "    def computa_relevancia(item):\n",
    "        palavra, tup = item\n",
    "        frequencia, idf = tup\n",
    "        return (palavra, frequencia * idf)     \n",
    "\n",
    "    def acha_palavra1_distinct(item):\n",
    "        url, texto = item\n",
    "\n",
    "        texto = texto.strip().split()\n",
    "        texto_limpo = [x.lower() for x in texto]\n",
    "\n",
    "        if palavras_recebidas[1] in texto_limpo:\n",
    "            return False\n",
    "        if palavras_recebidas[0] in texto_limpo:\n",
    "            return True\n",
    "        else: \n",
    "            return False  \n",
    "\n",
    "    def acha_palavra(item):\n",
    "        url, texto = item\n",
    "        texto =  texto.strip().split()\n",
    "        texto_limpo = [x.lower() for x in texto]\n",
    "        if palavras_recebidas[0] not in texto_limpo or palavras_recebidas[1] not in texto_limpo:\n",
    "            return False\n",
    "        else:    \n",
    "            return True  \n",
    "\n",
    "    def corta_documento(item):\n",
    "        url, texto = item\n",
    "        texto =  texto.strip().split()\n",
    "        texto_limpo = [x.lower() for x in texto]\n",
    "        palavras_boas = []\n",
    "        for i in range(5, len(texto_limpo)-5):\n",
    "            if palavras_recebidas[0] in texto_limpo[i-5:i+5] or palavras_recebidas[1] in texto_limpo[i-5:i+5]:\n",
    "                palavras_boas.append(texto_limpo[i])\n",
    "        return (url, \" \".join(palavras_boas))\n",
    "            \n",
    "\n",
    "    \n",
    "    if palavras_recebidas[2] == 1:\n",
    "        rdd = rdd.filter(acha_palavra)\n",
    "        print(\"Entrou no juntas\")\n",
    "    else:\n",
    "        rdd = rdd.filter(acha_palavra1_distinct)\n",
    "        print(\"Entrou no separado\")\n",
    "    \n",
    "    \n",
    "    rdd_palavras = rdd.flatMap(conta_palavras).reduceByKey(junta_contagens).cache()\n",
    "    rdd_palavras_freq = rdd_palavras.map(computa_freq_palavra)\n",
    "    \n",
    "    rdd_join = rdd_palavras_freq.join(rdd_idf)\n",
    "    rdd_relevante = rdd_join.map(computa_relevancia)\n",
    "    top_100 = rdd_relevante.takeOrdered(100, lambda x : -x[1])\n",
    "\n",
    "    return top_100"
   ]
  },
  {
   "cell_type": "code",
   "execution_count": 9,
   "metadata": {},
   "outputs": [
    {
     "ename": "ValueError",
     "evalue": "Cannot run multiple SparkContexts at once; existing SparkContext(app=Projeto2, master=local[*]) created by __init__ at <ipython-input-6-d18bace5cf68>:3 ",
     "output_type": "error",
     "traceback": [
      "\u001b[1;31m---------------------------------------------------------------------------\u001b[0m",
      "\u001b[1;31mValueError\u001b[0m                                Traceback (most recent call last)",
      "\u001b[1;32m<ipython-input-9-d18bace5cf68>\u001b[0m in \u001b[0;36m<module>\u001b[1;34m\u001b[0m\n\u001b[0;32m      1\u001b[0m \u001b[0mpalavras_recebidas\u001b[0m \u001b[1;33m=\u001b[0m \u001b[1;33m[\u001b[0m\u001b[1;34m\"apple\"\u001b[0m\u001b[1;33m,\u001b[0m \u001b[1;34m\"samsung\"\u001b[0m\u001b[1;33m,\u001b[0m \u001b[1;36m1\u001b[0m\u001b[1;33m]\u001b[0m\u001b[1;33m\u001b[0m\u001b[1;33m\u001b[0m\u001b[0m\n\u001b[0;32m      2\u001b[0m \u001b[1;33m\u001b[0m\u001b[0m\n\u001b[1;32m----> 3\u001b[1;33m \u001b[0msc\u001b[0m \u001b[1;33m=\u001b[0m \u001b[0mpyspark\u001b[0m\u001b[1;33m.\u001b[0m\u001b[0mSparkContext\u001b[0m\u001b[1;33m(\u001b[0m\u001b[0mappName\u001b[0m\u001b[1;33m=\u001b[0m\u001b[1;34m\"Projeto2\"\u001b[0m\u001b[1;33m)\u001b[0m\u001b[1;33m\u001b[0m\u001b[1;33m\u001b[0m\u001b[0m\n\u001b[0m\u001b[0;32m      4\u001b[0m \u001b[1;33m\u001b[0m\u001b[0m\n\u001b[0;32m      5\u001b[0m \u001b[1;31m#rdd = sc.sequenceFile(\"s3://megadados-alunos/web-brasil\")\u001b[0m\u001b[1;33m\u001b[0m\u001b[1;33m\u001b[0m\u001b[1;33m\u001b[0m\u001b[0m\n",
      "\u001b[1;32mc:\\users\\user01\\appdata\\local\\programs\\python\\python38\\lib\\site-packages\\pyspark\\context.py\u001b[0m in \u001b[0;36m__init__\u001b[1;34m(self, master, appName, sparkHome, pyFiles, environment, batchSize, serializer, conf, gateway, jsc, profiler_cls)\u001b[0m\n\u001b[0;32m    131\u001b[0m                 \" is not allowed as it is a security risk.\")\n\u001b[0;32m    132\u001b[0m \u001b[1;33m\u001b[0m\u001b[0m\n\u001b[1;32m--> 133\u001b[1;33m         \u001b[0mSparkContext\u001b[0m\u001b[1;33m.\u001b[0m\u001b[0m_ensure_initialized\u001b[0m\u001b[1;33m(\u001b[0m\u001b[0mself\u001b[0m\u001b[1;33m,\u001b[0m \u001b[0mgateway\u001b[0m\u001b[1;33m=\u001b[0m\u001b[0mgateway\u001b[0m\u001b[1;33m,\u001b[0m \u001b[0mconf\u001b[0m\u001b[1;33m=\u001b[0m\u001b[0mconf\u001b[0m\u001b[1;33m)\u001b[0m\u001b[1;33m\u001b[0m\u001b[1;33m\u001b[0m\u001b[0m\n\u001b[0m\u001b[0;32m    134\u001b[0m         \u001b[1;32mtry\u001b[0m\u001b[1;33m:\u001b[0m\u001b[1;33m\u001b[0m\u001b[1;33m\u001b[0m\u001b[0m\n\u001b[0;32m    135\u001b[0m             self._do_init(master, appName, sparkHome, pyFiles, environment, batchSize, serializer,\n",
      "\u001b[1;32mc:\\users\\user01\\appdata\\local\\programs\\python\\python38\\lib\\site-packages\\pyspark\\context.py\u001b[0m in \u001b[0;36m_ensure_initialized\u001b[1;34m(cls, instance, gateway, conf)\u001b[0m\n\u001b[0;32m    334\u001b[0m \u001b[1;33m\u001b[0m\u001b[0m\n\u001b[0;32m    335\u001b[0m                     \u001b[1;31m# Raise error if there is already a running Spark context\u001b[0m\u001b[1;33m\u001b[0m\u001b[1;33m\u001b[0m\u001b[1;33m\u001b[0m\u001b[0m\n\u001b[1;32m--> 336\u001b[1;33m                     raise ValueError(\n\u001b[0m\u001b[0;32m    337\u001b[0m                         \u001b[1;34m\"Cannot run multiple SparkContexts at once; \"\u001b[0m\u001b[1;33m\u001b[0m\u001b[1;33m\u001b[0m\u001b[0m\n\u001b[0;32m    338\u001b[0m                         \u001b[1;34m\"existing SparkContext(app=%s, master=%s)\"\u001b[0m\u001b[1;33m\u001b[0m\u001b[1;33m\u001b[0m\u001b[0m\n",
      "\u001b[1;31mValueError\u001b[0m: Cannot run multiple SparkContexts at once; existing SparkContext(app=Projeto2, master=local[*]) created by __init__ at <ipython-input-6-d18bace5cf68>:3 "
     ]
    }
   ],
   "source": [
    "palavras_recebidas = [\"apple\", \"samsung\", 1]\n",
    "     \n",
    "sc = pyspark.SparkContext(appName=\"Projeto2\")\n",
    "\n",
    "#rdd = sc.sequenceFile(\"s3://megadados-alunos/web-brasil\") \n",
    "rdd = sc.sequenceFile(\"part-00000\") \n",
    "N = rdd.count()\n",
    "print(\"O numero de documentos é\", N)\n",
    "DOC_COUNT_MAX = 0.8*N\n",
    "DOC_COUNT_MIN = 5\n",
    "\n",
    "def conta_palavras_doc(item):\n",
    "    url, conteudo = item\n",
    "    palavras = conteudo.strip().split()\n",
    "    return [(palavra.lower(), 1) for palavra in set(palavras)]\n",
    "\n",
    "def junta_contagens(nova_contagem, contagem_atual):\n",
    "    return nova_contagem + contagem_atual\n",
    "\n",
    "def filtra_doc_freq(item):\n",
    "    palavra, contagem = item\n",
    "    return (contagem < DOC_COUNT_MAX) and (contagem >= DOC_COUNT_MIN) and (palavra.isalpha())\n",
    "\n",
    "def computa_idf(item):\n",
    "    palavra, contagem = item \n",
    "    idf = math.log10(N/contagem)\n",
    "    return (palavra, idf)\n",
    "\n",
    "\n",
    "rdd_doc_freq = rdd.flatMap(conta_palavras_doc).reduceByKey(junta_contagens).cache()\n",
    "rdd_doc_freq_filtrado = rdd_doc_freq.filter(filtra_doc_freq)\n",
    "rdd_idf = rdd_doc_freq_filtrado.map(computa_idf)    \n",
    "rdd_idf.takeOrdered(10, lambda x : x[1])"
   ]
  },
  {
   "cell_type": "code",
   "execution_count": null,
   "metadata": {},
   "outputs": [
    {
     "name": "stdout",
     "output_type": "stream",
     "text": [
      "Começou a analise juntas\n",
      "Entrou no juntas\n"
     ]
    }
   ],
   "source": [
    "print(\"Começou a analise juntas\")\n",
    "top_100_juntas = analise(palavras_recebidas, rdd, rdd_idf)\n",
    "df = pd.DataFrame(top_100_juntas, columns=[\"Palavra\", \"Relevância\"])\n",
    "#df.to_csv(\"s3://megadados-alunos/giovanna-mayra/juntas.csv\")  \n",
    "df.to_csv(\"juntassem5antespeque.csv\") \n",
    "print(\"Terminou a analise juntas\")\n",
    "palavras_recebidas1 = [\"apple\", \"samsung\", 0]\n",
    "print(\"Começou a analise apple\")\n",
    "top_100_apple = analise(palavras_recebidas1, rdd, rdd_idf)\n",
    "df = pd.DataFrame(top_100_apple, columns=[\"Palavra\", \"Relevância\"])\n",
    "#df.to_csv(\"s3://megadados-alunos/giovanna-mayra/apple.csv\")\n",
    "df.to_csv(\"applesem5antespeque.csv\") \n",
    "print(\"Terminou a analise apple\")\n",
    "palavras_recebidas2 = [\"samsung\", \"apple\", 0]\n",
    "print(\"Começou a analise samsung\")\n",
    "top_100_samsung = analise(palavras_recebidas2, rdd, rdd_idf)\n",
    "df = pd.DataFrame(top_100_samsung, columns=[\"Palavra\", \"Relevância\"])\n",
    "#df.to_csv(\"s3://megadados-alunos/giovanna-mayra/samsung.csv\")\n",
    "df.to_csv(\"samsungsem5antespeque.csv\")\n",
    "print(\"Terminou a analise samsung\")\n"
   ]
  },
  {
   "cell_type": "code",
   "execution_count": 5,
   "metadata": {},
   "outputs": [],
   "source": [
    "sc.stop() "
   ]
  },
  {
   "cell_type": "code",
   "execution_count": null,
   "metadata": {},
   "outputs": [],
   "source": []
  }
 ],
 "metadata": {
  "kernelspec": {
   "display_name": "Python 3",
   "language": "python",
   "name": "python3"
  },
  "language_info": {
   "codemirror_mode": {
    "name": "ipython",
    "version": 3
   },
   "file_extension": ".py",
   "mimetype": "text/x-python",
   "name": "python",
   "nbconvert_exporter": "python",
   "pygments_lexer": "ipython3",
   "version": "3.8.6"
  }
 },
 "nbformat": 4,
 "nbformat_minor": 4
}
